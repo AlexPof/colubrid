{
 "cells": [
  {
   "cell_type": "code",
   "execution_count": 1,
   "metadata": {},
   "outputs": [],
   "source": [
    "from colubridae.category import Category,Functor,NaturalTransformation\n",
    "from colubridae.sets import SetObject,Function,Relation"
   ]
  },
  {
   "cell_type": "markdown",
   "metadata": {},
   "source": [
    "### Defining a cyclic group"
   ]
  },
  {
   "cell_type": "code",
   "execution_count": 2,
   "metadata": {},
   "outputs": [
    {
     "name": "stdout",
     "output_type": "stream",
     "text": [
      "8\n"
     ]
    }
   ],
   "source": [
    "X=SetObject([\"a\",\"b\",\"c\",\"d\",\"e\",\"f\",\"g\",\"h\"])\n",
    "t = Function(X,X,{\"a\":\"b\",\"b\":\"c\",\"c\":\"d\",\"d\":\"e\",\"e\":\"f\",\"f\":\"g\",\"g\":\"h\",\"h\":\"a\"})\n",
    "Z8 = Category([X],[t])\n",
    "print(len(Z8.morphisms))"
   ]
  },
  {
   "cell_type": "code",
   "execution_count": 3,
   "metadata": {},
   "outputs": [
    {
     "name": "stdout",
     "output_type": "stream",
     "text": [
      "True\n",
      "{'a': 'd', 'b': 'e', 'c': 'f', 'd': 'g', 'e': 'h', 'f': 'a', 'g': 'b', 'h': 'c'}\n",
      "False\n",
      "{'a': 'e', 'b': 'f', 'c': 'g', 'd': 'h', 'e': 'a', 'f': 'b', 'g': 'c', 'h': 'd'}\n",
      "False\n",
      "{'a': 'g', 'b': 'h', 'c': 'a', 'd': 'b', 'e': 'c', 'f': 'd', 'g': 'e', 'h': 'f'}\n",
      "False\n",
      "{'a': 'c', 'b': 'd', 'c': 'e', 'd': 'f', 'e': 'g', 'f': 'h', 'g': 'a', 'h': 'b'}\n",
      "True\n",
      "{'a': 'b', 'b': 'c', 'c': 'd', 'd': 'e', 'e': 'f', 'f': 'g', 'g': 'h', 'h': 'a'}\n",
      "True\n",
      "{'a': 'f', 'b': 'g', 'c': 'h', 'd': 'a', 'e': 'b', 'f': 'c', 'g': 'd', 'h': 'e'}\n",
      "False\n",
      "{'g': 'g', 'a': 'a', 'c': 'c', 'd': 'd', 'e': 'e', 'h': 'h', 'f': 'f', 'b': 'b'}\n",
      "True\n",
      "{'a': 'h', 'b': 'a', 'c': 'b', 'd': 'c', 'e': 'd', 'f': 'e', 'g': 'f', 'h': 'g'}\n"
     ]
    }
   ],
   "source": [
    "# Determining the automorphism group of Z8\n",
    "\n",
    "for x in list(Z8.morphisms):\n",
    "    print(Category([X],[x])==Z8)\n",
    "    print(x.mapping)"
   ]
  },
  {
   "cell_type": "code",
   "execution_count": 5,
   "metadata": {},
   "outputs": [
    {
     "name": "stdout",
     "output_type": "stream",
     "text": [
      "{'a': 'g', 'b': 'h', 'c': 'a', 'd': 'b', 'e': 'c', 'f': 'd', 'g': 'e', 'h': 'f'}\n"
     ]
    }
   ],
   "source": [
    "F = Functor(Z8,Z8,{X:X},{t:t*t*t},from_generators=True)\n",
    "print(F(t*t).mapping)"
   ]
  },
  {
   "cell_type": "code",
   "execution_count": 6,
   "metadata": {},
   "outputs": [
    {
     "name": "stdout",
     "output_type": "stream",
     "text": [
      "4\n"
     ]
    }
   ],
   "source": [
    "G = Functor(Z8,Z8,{X:X},{t:t*t*t*t*t},from_generators=True)\n",
    "AutZ8 = Category([Z8],[F,G])\n",
    "print(len(AutZ8.morphisms))"
   ]
  },
  {
   "cell_type": "markdown",
   "metadata": {},
   "source": [
    "### More complex functors"
   ]
  },
  {
   "cell_type": "code",
   "execution_count": 7,
   "metadata": {},
   "outputs": [
    {
     "name": "stdout",
     "output_type": "stream",
     "text": [
      "2\n"
     ]
    }
   ],
   "source": [
    "A=SetObject([\"a\",\"b\"])\n",
    "f = Function(A,A,{\"a\":\"b\",\"b\":\"a\"})\n",
    "Z2 = Category([A],[f])\n",
    "print(len(Z2.morphisms))"
   ]
  },
  {
   "cell_type": "code",
   "execution_count": 8,
   "metadata": {},
   "outputs": [
    {
     "name": "stdout",
     "output_type": "stream",
     "text": [
      "{'p': {'p', 'r', 's'}, 'q': {'q', 'r'}, 'r': {'r'}, 's': {'r'}}\n",
      "{'p': {'q', 'r'}, 'q': {'p', 'r', 's'}, 'r': {'r'}, 's': {'r'}}\n",
      "{'q': {'p', 's'}, 'p': {'q', 'r'}, 'r': {'r'}, 's': {'r'}}\n",
      "{'q': {'q'}, 'p': {'p'}, 'r': {'r'}, 's': {'s'}}\n"
     ]
    }
   ],
   "source": [
    "B=SetObject([\"p\",\"q\",\"r\",\"s\"])\n",
    "g = Relation(B,B,{\"p\":{\"q\",\"r\"},\"q\":{\"p\",\"s\"},\"r\":{\"r\"},\"s\":{\"r\"}})\n",
    "M = Category([B],[g])\n",
    "for x in M.morphisms:\n",
    "    print(x.mapping)"
   ]
  },
  {
   "cell_type": "code",
   "execution_count": 9,
   "metadata": {},
   "outputs": [
    {
     "data": {
      "text/plain": [
       "{'a': 'b', 'b': 'a'}"
      ]
     },
     "execution_count": 9,
     "metadata": {},
     "output_type": "execute_result"
    }
   ],
   "source": [
    "F=Functor(M,Z2,{B:A},{g:f},from_generators=True)\n",
    "F(g*g*g).mapping"
   ]
  },
  {
   "cell_type": "markdown",
   "metadata": {},
   "source": [
    "### Natural transformations"
   ]
  },
  {
   "cell_type": "code",
   "execution_count": 13,
   "metadata": {},
   "outputs": [
    {
     "name": "stdout",
     "output_type": "stream",
     "text": [
      "32\n"
     ]
    }
   ],
   "source": [
    "U=SetObject([\"u\"])\n",
    "V=SetObject([\"v\"])\n",
    "W=SetObject([\"w\"])\n",
    "\n",
    "fUV = Function(U,V,{\"u\":\"v\"})\n",
    "fVW = Function(V,W,{\"v\":\"w\"})\n",
    "cat1 = Category([U,V,W],[fUV,fVW])\n",
    "\n",
    "F1 = Functor(cat1,Z8,{U:X,V:X,W:X},{fUV:t,fVW:t*t},from_generators=True)\n",
    "F2 = Functor(cat1,Z8,{U:X,V:X,W:X},{fUV:t*t,fVW:t*t},from_generators=True)\n",
    "N1 = NaturalTransformation(F1,F2,{U:t,V:t*t,W:t*t})\n",
    "N2 = NaturalTransformation(F2,F1,{U:t*t,V:t,W:t})\n",
    "\n",
    "func_cat = Category([F1,F2],[N1,N2])\n",
    "print(len(func_cat.morphisms))"
   ]
  }
 ],
 "metadata": {
  "kernelspec": {
   "display_name": "Python 3",
   "language": "python",
   "name": "python3"
  },
  "language_info": {
   "codemirror_mode": {
    "name": "ipython",
    "version": 3
   },
   "file_extension": ".py",
   "mimetype": "text/x-python",
   "name": "python",
   "nbconvert_exporter": "python",
   "pygments_lexer": "ipython3",
   "version": "3.6.6"
  }
 },
 "nbformat": 4,
 "nbformat_minor": 2
}
